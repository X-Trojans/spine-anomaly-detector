{
 "cells": [
  {
   "cell_type": "markdown",
   "metadata": {},
   "source": [
    "### Imports and Paths"
   ]
  },
  {
   "cell_type": "code",
   "execution_count": 1,
   "metadata": {},
   "outputs": [
    {
     "data": {
      "text/html": [
       "<style>.container { width:100% !important; }</style>"
      ],
      "text/plain": [
       "<IPython.core.display.HTML object>"
      ]
     },
     "metadata": {},
     "output_type": "display_data"
    }
   ],
   "source": [
    "# Widen Jupyter NB cell display\n",
    "from IPython.core.display import display, HTML, Image\n",
    "display(HTML(\"<style>.container { width:100% !important; }</style>\"))\n",
    "# Set-up python print formating\n",
    "class color:\n",
    "   PURPLE = '\\033[95m'\n",
    "   CYAN = '\\033[96m'\n",
    "   DARKCYAN = '\\033[36m'\n",
    "   BLUE = '\\033[94m'\n",
    "   GREEN = '\\033[92m'\n",
    "   YELLOW = '\\033[93m'\n",
    "   RED = '\\033[91m'\n",
    "   BOLD = '\\033[1m'\n",
    "   UNDERLINE = '\\033[4m'\n",
    "   END = '\\033[0m'"
   ]
  },
  {
   "cell_type": "code",
   "execution_count": 2,
   "metadata": {},
   "outputs": [
    {
     "name": "stderr",
     "output_type": "stream",
     "text": [
      "/root/venv/lib/python3.6/site-packages/tqdm/auto.py:22: TqdmWarning: IProgress not found. Please update jupyter and ipywidgets. See https://ipywidgets.readthedocs.io/en/stable/user_install.html\n",
      "  from .autonotebook import tqdm as notebook_tqdm\n"
     ]
    }
   ],
   "source": [
    "import numpy as np, os\n",
    "import matplotlib.pyplot as plt\n",
    "import pandas as pd, random\n",
    "import seaborn as sn\n",
    "import torch, torch.nn as nn\n",
    "\n",
    "from PIL import Image\n",
    "from tqdm import tqdm\n",
    "from torch.optim import SGD, AdamW\n",
    "from torch.utils import data\n",
    "from torchvision import transforms, models\n",
    "from pydicom import read_file\n",
    "from pydicom.pixel_data_handlers.util import apply_voi_lut\n",
    "\n",
    "device = torch.device(\"cuda\" if torch.cuda.is_available() else \"cpu\")"
   ]
  },
  {
   "cell_type": "code",
   "execution_count": 3,
   "metadata": {},
   "outputs": [],
   "source": [
    "# CHANGE TO YOUR LOCAL\n",
    "path = \"/media/bryan/3777c7d8-50a4-4e8a-9d41-1ac8670b3dd3/vindr/physionet.org/files/vindr-spinexr/1.0.0/\"\n",
    "\n",
    "train_path = path + \"train_images/\"\n",
    "test_path  = path + \"test_images/\"\n",
    "annot_path = path + \"annotations/\"\n",
    "\n",
    "tiny_path = \"/\".join(path.split(\"/\")[:-2]) + \"/tiny_vindr/\"\n",
    "#os.makedirs(tiny_path, exist_ok=True)\n",
    "#os.makedirs(tiny_path + \"train_images/\", exist_ok=True)\n",
    "#os.makedirs(tiny_path + \"test_images/\", exist_ok=True)\n",
    "#os.makedirs(tiny_path + \"annotations/\", exist_ok=True)"
   ]
  },
  {
   "cell_type": "markdown",
   "metadata": {},
   "source": [
    "### Read DICOM files"
   ]
  },
  {
   "cell_type": "code",
   "execution_count": 10,
   "metadata": {},
   "outputs": [],
   "source": [
    "def read_xray(path, voi_lut=True, fix_monochrome=True):\n",
    "    \n",
    "    dicom = read_file(path)\n",
    "    # transform raw DICOM data to \"human-friendly\" view\n",
    "    if voi_lut and len(dicom.get(\"VOILUTSequence\", [])):\n",
    "        data = apply_voi_lut(dicom.pixel_array, dicom)\n",
    "    else:\n",
    "        data = dicom.pixel_array.astype(\"float\")\n",
    "\n",
    "    if fix_monochrome and dicom.PhotometricInterpretation == \"MONOCHROME1\":\n",
    "        data = np.amax(data) - data\n",
    "    data -= np.min(data)\n",
    "    data /= np.max(data)\n",
    "    data *= 255\n",
    "        \n",
    "    return data.astype(np.uint8)"
   ]
  },
  {
   "cell_type": "markdown",
   "metadata": {},
   "source": [
    "### Make Tiny Version"
   ]
  },
  {
   "cell_type": "code",
   "execution_count": null,
   "metadata": {},
   "outputs": [],
   "source": [
    "annotations = pd.read_csv(annot_path + \"train.csv\")\n",
    "annotations = annotations[[\"image_id\", \"lesion_type\", \"xmin\", \"ymin\", \"xmax\", \"ymax\"]]\n",
    "annotations.to_csv(tiny_path + \"annotations/train.csv\")\n",
    "\n",
    "for dicom_file in tqdm(os.listdir(train_path)):\n",
    "\n",
    "    name = dicom_file.split(\".\")[0]\n",
    "    if not dicom_file.endswith(\"dicom\"):\n",
    "        continue\n",
    "    a = read_xray(train_path + dicom_file)\n",
    "    plt.imsave(tiny_path + f\"train_images/{name}.jpg\", a)\n",
    "\n",
    "annotations = pd.read_csv(annot_path + \"test.csv\")\n",
    "annotations = annotations[[\"image_id\", \"lesion_type\", \"xmin\", \"ymin\", \"xmax\", \"ymax\"]]\n",
    "annotations.to_csv(tiny_path + \"annotations/test.csv\")\n",
    "\n",
    "for dicom_file in tqdm(os.listdir(test_path)):\n",
    "\n",
    "    name = dicom_file.split(\".\")[0]\n",
    "    if not dicom_file.endswith(\"dicom\"):\n",
    "        continue\n",
    "    a = read_xray(test_path + dicom_file)\n",
    "    plt.imsave(tiny_path + f\"test_images/{name}.jpg\", a)"
   ]
  },
  {
   "cell_type": "markdown",
   "metadata": {},
   "source": [
    "### Load Training Splits"
   ]
  },
  {
   "cell_type": "code",
   "execution_count": null,
   "metadata": {},
   "outputs": [],
   "source": [
    "def train_test_split(path):\n",
    "    train_path = path + \"train_images/\"\n",
    "    train_list = [os.path.join(train_path, img) for img in os.listdir(train_path)]\n",
    "\n",
    "    random.shuffle(train_list)\n",
    "    threshold = int(0.8 * len(train_list))\n",
    "    valid_list = train_list[threshold:]\n",
    "    train_list = train_list[:threshold]\n",
    "\n",
    "    test_path = path + \"test_images/\"\n",
    "    test_list = [os.path.join(test_path, img) for img in os.listdir(test_path)]\n",
    "\n",
    "    return train_list, valid_list, test_list\n",
    "\n",
    "path = \"/media/bryan/3777c7d8-50a4-4e8a-9d41-1ac8670b3dd3/vindr/physionet.org/files/vindr-spinexr/tiny_vindr/\"\n",
    "train, valid, test = train_test_split(path)"
   ]
  },
  {
   "cell_type": "code",
   "execution_count": null,
   "metadata": {},
   "outputs": [],
   "source": [
    "annotations = pd.read_csv(annot_path + \"train.csv\")\n",
    "train_annot = [\n",
    "    annotations.iloc[idx] for idx, row in enumerate(annotations.iterrows()) \\\n",
    "        if \"{}train_images/{}.jpg\".format(path, row[1][\"image_id\"]) in train\n",
    "]\n",
    "train_annot = pd.DataFrame(train_annot).drop_duplicates(subset=[\"image_id\"]).sort_values(by=[\"image_id\"])\n",
    "\n",
    "valid_annot = [\n",
    "    annotations.iloc[idx] for idx, row in enumerate(annotations.iterrows()) \\\n",
    "        if \"{}train_images/{}.jpg\".format(path, row[1][\"image_id\"]) in valid\n",
    "]\n",
    "valid_annot = pd.DataFrame(valid_annot).drop_duplicates(subset=[\"image_id\"]).sort_values(by=[\"image_id\"])\n",
    "\n",
    "annotations = pd.read_csv(annot_path + \"test.csv\")\n",
    "test_annot = [\n",
    "    annotations.iloc[idx] for idx, row in enumerate(annotations.iterrows()) \\\n",
    "        if \"{}test_images/{}.jpg\".format(path, row[1][\"image_id\"]) in test\n",
    "]\n",
    "test_annot = pd.DataFrame(test_annot).drop_duplicates(subset=[\"image_id\"]).sort_values(by=[\"image_id\"])"
   ]
  },
  {
   "cell_type": "code",
   "execution_count": null,
   "metadata": {},
   "outputs": [],
   "source": [
    "class VinDrSpineXR(data.Dataset):\n",
    "    def __init__(self, root_dir, annot_df, transform=None):\n",
    "        self.img_paths = root_dir\n",
    "        self.img_paths.sort()\n",
    "        self.transform = transform\n",
    "        self.labels = annot_df[[\"image_id\", \"lesion_type\"]]\n",
    "\n",
    "    def __len__(self):\n",
    "        return len(self.labels)\n",
    "\n",
    "    def __getitem__(self, idx):\n",
    "        image = Image.open(self.img_paths[idx])\n",
    "        #  0: Abnormal  |  1: Normal\n",
    "        label = self.labels.iloc[idx, 1] == \"No finding\"\n",
    "        image = self.transform(image)\n",
    "        return image, label*1\n",
    "\n",
    "train_transform = transforms.Compose([\n",
    "    transforms.Resize((224,224)),\n",
    "    transforms.ToTensor(),\n",
    "    transforms.Normalize([0.485, 0.456, 0.406], [0.229, 0.224, 0.225])\n",
    "])\n",
    "\n",
    "test_transform = transforms.Compose([\n",
    "    transforms.Resize((224,224)),\n",
    "    transforms.ToTensor(),\n",
    "    transforms.Normalize([0.485, 0.456, 0.406], [0.229, 0.224, 0.225])\n",
    "])\n",
    "\n",
    "train_dataset = VinDrSpineXR(train, train_annot, train_transform)\n",
    "valid_dataset = VinDrSpineXR(valid, valid_annot, train_transform)\n",
    "test_dataset  = VinDrSpineXR(test , test_annot , test_transform )\n",
    "\n",
    "train_loader = data.DataLoader(train_dataset, batch_size=32, shuffle=True)\n",
    "valid_loader = data.DataLoader(valid_dataset, batch_size=32, shuffle=True)\n",
    "test_loader  = data.DataLoader(test_dataset , batch_size=32, shuffle=True)"
   ]
  },
  {
   "cell_type": "markdown",
   "metadata": {},
   "source": [
    "### Build and Train Network Model"
   ]
  },
  {
   "cell_type": "code",
   "execution_count": null,
   "metadata": {},
   "outputs": [],
   "source": [
    "class XRModel(nn.Module):\n",
    "    def __init__(self, n_classes, use_pretrained=True, freeze=True):\n",
    "        super(XRModel, self).__init__()\n",
    "\n",
    "        self.base_net = models.densenet169(pretrained=use_pretrained)\n",
    "        if freeze:\n",
    "            for child in self.base_net.children():\n",
    "                for param in child.parameters():\n",
    "                    param.requires_grad = False\n",
    "\n",
    "        n_feats = self.base_net.classifier.in_features\n",
    "        self.base_net.classifier = nn.Linear(n_feats, 256)\n",
    "        self.cls = nn.Sequential(nn.LeakyReLU(), nn.Linear(256, n_classes))\n",
    "\n",
    "    def forward(self, input):\n",
    "        return (self.cls(self.base_net(input))).to(device)\n",
    "\n",
    "model = XRModel(n_classes=2, freeze=False)\n",
    "optim = AdamW(model.parameters(), lr=1e-3)\n",
    "lossf = nn.CrossEntropyLoss()"
   ]
  },
  {
   "cell_type": "code",
   "execution_count": null,
   "metadata": {
    "scrolled": false
   },
   "outputs": [],
   "source": [
    "model = model.to(device)\n",
    "n_epochs = 30\n",
    "batch_size=32\n",
    "best_val_loss = 999999999\n",
    "acc_list = []\n",
    "val_acc_list = []\n",
    "loss_list = []\n",
    "val_loss_list = []\n",
    "\n",
    "for i in range(1, n_epochs+1):\n",
    "\n",
    "    print(f\"\\nEpoch {i}:\")\n",
    "    print(\"-\"*10)\n",
    "\n",
    "    running_loss, running_hits = 0.0, 0.0\n",
    "    for batch, label in tqdm(train_loader):\n",
    "        images = batch.to(device)\n",
    "        labels = label.to(device)\n",
    "\n",
    "        optim.zero_grad()\n",
    "        with torch.set_grad_enabled(True):\n",
    "\n",
    "            out = model(images)\n",
    "            loss = lossf(out, labels)\n",
    "            _, pred = torch.max(out, 1)\n",
    "            loss.backward()\n",
    "            optim.step()\n",
    "    \n",
    "        running_loss += loss.item()\n",
    "        running_hits += (torch.sum(pred == labels)).item() / batch_size\n",
    "\n",
    "    epoch_loss = running_loss / len(train_loader)\n",
    "    epoch_acc  = running_hits / len(train_loader)\n",
    "    acc_list.append(epoch_acc)\n",
    "    loss_list.append(epoch_loss)\n",
    "    print(\"Train Loss: {:.3f}\\t Acc: {:.3f}\".format(epoch_loss, epoch_acc))\n",
    "\n",
    "    running_loss, running_hits = 0.0, 0.0\n",
    "    for batch, label in tqdm(valid_loader):\n",
    "        images = batch.to(device)\n",
    "        labels = label.to(device)\n",
    "\n",
    "        optim.zero_grad()\n",
    "        with torch.set_grad_enabled(False):\n",
    "\n",
    "            out = model(images)\n",
    "            loss = lossf(out, labels)\n",
    "            _, pred = torch.max(out, 1)\n",
    "    \n",
    "        running_loss += loss.item()\n",
    "        running_hits += (torch.sum(pred == labels)).item() / batch_size\n",
    "\n",
    "    epoch_loss = running_loss / len(valid_loader)\n",
    "    epoch_acc  = running_hits / len(valid_loader)\n",
    "    val_acc_list.append(epoch_acc)\n",
    "    val_loss_list.append(epoch_loss)\n",
    "    if epoch_loss < best_val_loss:            \n",
    "        torch.save(model.state_dict(), 'vindr_densenet169.h5')\n",
    "        best_val_loss = epoch_loss\n",
    "    print(\"Valid Loss: {:.3f}\\t Acc: {:.3f}\".format(epoch_loss, epoch_acc))\n",
    "np.save('acc_list.npy',np.asarray(acc_list))\n",
    "np.save('val_acc_list.npy',np.asarray(val_acc_list))\n",
    "np.save('loss_list.npy',np.asarray(loss_list))\n",
    "np.save('val_loss_list.npy',np.asarray(val_loss_list))"
   ]
  },
  {
   "cell_type": "code",
   "execution_count": null,
   "metadata": {},
   "outputs": [],
   "source": [
    "from sklearn import metrics\n",
    "import seaborn as sn\n",
    "from sklearn.metrics import ConfusionMatrixDisplay\n",
    "\n",
    "def model_pred_on_test(model,model_h5_file,batch_size):\n",
    "    test_loader  = data.DataLoader(test_dataset , batch_size=batch_size, shuffle=False)\n",
    "    model = model.to(device)\n",
    "    model.load_state_dict(torch.load(model_h5_file))\n",
    "    model.eval()\n",
    "    meta_preds = torch.zeros(1,1).to(device).float()\n",
    "    meta_labels = torch.zeros(1,1).to(device).float()\n",
    "    running_hits = 0\n",
    "    \n",
    "    for batch, label in tqdm(test_loader):\n",
    "        images = batch.to(device)\n",
    "        labels = label.to(device)\n",
    "\n",
    "        out = model(images)\n",
    "        _, pred = torch.max(out, 1)\n",
    "        pred = pred.view(1,pred.shape[0])\n",
    "        meta_preds = torch.cat((meta_preds,pred.float()),1)\n",
    "        meta_labels = torch.cat((meta_labels,torch.unsqueeze(labels.float(),1)),0)\n",
    "        running_hits += (torch.sum(pred == labels)).item()\n",
    "    \n",
    "    meta_preds = meta_preds.view(len(test)+1)\n",
    "    meta_preds = meta_preds[1:].cpu().numpy()\n",
    "    meta_labels = meta_labels.view(len(test)+1)\n",
    "    meta_labels = meta_labels[1:].cpu().numpy()\n",
    "    test_acc  = running_hits / len(test)\n",
    "    fpr, tpr, thresholds = metrics.roc_curve(meta_labels, meta_preds, pos_label=1)\n",
    "    auroc = metrics.auc(fpr, tpr)\n",
    "    tn, fp, fn, tp = metrics.confusion_matrix(meta_labels, meta_preds).ravel()\n",
    "    precision = tp/(tp+fp)\n",
    "    recall = tp/(tp+fn)\n",
    "    F1 = (2*recall*precision)/(recall+precision)\n",
    "    specificity = tn/(tn+fp)\n",
    "    \n",
    "    print(\"AUROC = \",np.round(auroc,4))\n",
    "    print(\"F1 score = \",np.round(F1,4))\n",
    "    print(\"Sensitivity = \",np.round(recall,4))\n",
    "    print(\"Specificity = \",np.round(specificity,4))\n",
    "    print(\"Accuracy on test set = \",np.round(test_acc,4))\n",
    "    \n",
    "    conf_matrix = metrics.confusion_matrix(y_true=meta_labels, y_pred=meta_preds)\n",
    "    ls = [0, 1]\n",
    "    disp = ConfusionMatrixDisplay(confusion_matrix=conf_matrix, display_labels=ls)\n",
    "    disp.plot(cmap=plt.cm.Blues)\n",
    "    plt.xlabel('Predictions', fontsize=18)\n",
    "    plt.ylabel('True', fontsize=18)\n",
    "    plt.title('Confusion Matrix, Test Set', fontsize=18)\n",
    "    plt.savefig('cm.png', dpi=1200)\n",
    "    plt.show()\n",
    "\n",
    "    return(meta_preds,meta_labels)\n",
    "\n",
    "meta_preds,meta_labels = model_pred_on_test(model,'vindr_densenet169.h5',32)"
   ]
  },
  {
   "cell_type": "code",
   "execution_count": 3,
   "metadata": {},
   "outputs": [],
   "source": [
    "acc_list = np.load('acc_list.npy')\n",
    "val_acc_list = np.load('val_acc_list.npy')\n",
    "loss_list = np.load('loss_list.npy')\n",
    "val_loss_list = np.load('val_loss_list.npy')"
   ]
  },
  {
   "cell_type": "code",
   "execution_count": 5,
   "metadata": {},
   "outputs": [
    {
     "data": {
      "image/png": "[encoded data removed]",
      "text/plain": [
       "<Figure size 720x720 with 1 Axes>"
      ]
     },
     "metadata": {
      "needs_background": "light"
     },
     "output_type": "display_data"
    }
   ],
   "source": [
    "epochs = range(1,31)\n",
    "plt.plot(epochs, acc_list, 'k', label='Training',linewidth=2)\n",
    "plt.plot(epochs, val_acc_list, 'r', label='Validation',linewidth=2)\n",
    "#plt.title('Training and Validation Accuracy vs Epoch')\n",
    "plt.xlabel('Epoch')\n",
    "plt.ylabel('Accuracy')\n",
    "plt.rcParams['figure.figsize'] = [10,10]\n",
    "plt.rcParams['font.size']= 24\n",
    "#plt.legend()\n",
    "plt.grid(b=True)\n",
    "plt.savefig('acc.png', dpi=1200)\n",
    "plt.show()"
   ]
  },
  {
   "cell_type": "code",
   "execution_count": 6,
   "metadata": {},
   "outputs": [
    {
     "data": {
      "image/png": "[encoded data removed]",
      "text/plain": [
       "<Figure size 720x720 with 1 Axes>"
      ]
     },
     "metadata": {
      "needs_background": "light"
     },
     "output_type": "display_data"
    }
   ],
   "source": [
    "epochs = range(1,31)\n",
    "plt.plot(epochs, loss_list, 'k', label='Training',linewidth=2)\n",
    "plt.plot(epochs, val_loss_list, 'r', label='Validation',linewidth=2)\n",
    "#plt.title('Training and Validation Loss vs Epoch')\n",
    "plt.xlabel('Epoch')\n",
    "plt.ylabel('Loss')\n",
    "plt.rcParams['figure.figsize'] = [10,10]\n",
    "plt.rcParams['font.size']= 24\n",
    "plt.legend()\n",
    "plt.grid(b=True)\n",
    "plt.savefig('loss.png', dpi=1200)\n",
    "plt.show()"
   ]
  },
  {
   "cell_type": "code",
   "execution_count": null,
   "metadata": {},
   "outputs": [],
   "source": []
  },
  {
   "cell_type": "code",
   "execution_count": null,
   "metadata": {},
   "outputs": [],
   "source": []
  },
  {
   "cell_type": "code",
   "execution_count": null,
   "metadata": {},
   "outputs": [],
   "source": []
  },
  {
   "cell_type": "code",
   "execution_count": null,
   "metadata": {
    "scrolled": false
   },
   "outputs": [],
   "source": []
  },
  {
   "cell_type": "code",
   "execution_count": null,
   "metadata": {
    "scrolled": false
   },
   "outputs": [],
   "source": []
  },
  {
   "cell_type": "code",
   "execution_count": null,
   "metadata": {},
   "outputs": [],
   "source": []
  },
  {
   "cell_type": "code",
   "execution_count": null,
   "metadata": {},
   "outputs": [],
   "source": []
  },
  {
   "cell_type": "code",
   "execution_count": null,
   "metadata": {},
   "outputs": [],
   "source": []
  }
 ],
 "metadata": {
  "interpreter": {
   "hash": "b3ead3404d1b25b8774e41d010b828f1f2573fd384389b7f1d1e8e4c965560bd"
  },
  "kernelspec": {
   "display_name": "Python 3",
   "language": "python",
   "name": "python3"
  },
  "language_info": {
   "codemirror_mode": {
    "name": "ipython",
    "version": 3
   },
   "file_extension": ".py",
   "mimetype": "text/x-python",
   "name": "python",
   "nbconvert_exporter": "python",
   "pygments_lexer": "ipython3",
   "version": "3.6.9"
  }
 },
 "nbformat": 4,
 "nbformat_minor": 2
}
